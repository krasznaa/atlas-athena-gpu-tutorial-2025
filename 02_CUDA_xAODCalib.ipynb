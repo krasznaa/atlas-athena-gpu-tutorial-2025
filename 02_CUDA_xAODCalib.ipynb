{
 "cells": [
  {
   "cell_type": "markdown",
   "id": "c7fe1e52",
   "metadata": {},
   "source": [
    "# Calibrate Electrons on a GPU With CUDA\n",
    "\n",
    "The second exercise shows some good practices for how one can offload complex\n",
    "data structures to a GPU in an optimal way.\n",
    "\n",
    "## Build the Project\n",
    "\n",
    "Building the project works exactly the same as in the first exercise. If you\n",
    "already went through that, your [scripts/build_env.sh](scripts/build_env.sh)\n",
    "should already be set up correctly, so you should be able to execute.\n",
    "  - On Perlmutter:"
   ]
  },
  {
   "cell_type": "code",
   "execution_count": null,
   "id": "618e82e6",
   "metadata": {
    "scrolled": true
   },
   "outputs": [],
   "source": [
    "!./scripts/run_on_perlmutter.sh cmake -DCMAKE_BUILD_TYPE=Debug -S . -B build\n",
    "!./scripts/run_on_perlmutter.sh cmake --build build"
   ]
  },
  {
   "cell_type": "markdown",
   "id": "e3554638-16ac-4c3a-9950-d2a788acee12",
   "metadata": {},
   "source": [
    "  - On SWAN:"
   ]
  },
  {
   "cell_type": "code",
   "execution_count": null,
   "id": "109c18ab-ae98-43c9-aee9-24097fcf4467",
   "metadata": {
    "scrolled": true
   },
   "outputs": [],
   "source": [
    "!./scripts/run_on_swan.sh cmake -DCMAKE_BUILD_TYPE=Debug -S . -B build\n",
    "!./scripts/run_on_swan.sh cmake --build build"
   ]
  },
  {
   "cell_type": "markdown",
   "id": "db155953",
   "metadata": {},
   "source": [
    "## Code Structure\n",
    "\n",
    "The code is set up slightly more realistically in this second example.\n",
    "  - The algorithm's C\\+\\+ code is not exposed to the CUDA compiler, but rather\n",
    "    kept in pure C\\+\\+ source files.\n",
    "    ([ElectronCalibCUDAAlg.h](CUDAExamples/src/02_xAODCalib/ElectronCalibCUDAAlg.h),\n",
    "    [ElectronCalibCUDAAlg.cxx](CUDAExamples/src/02_xAODCalib/ElectronCalibCUDAAlg.cxx))\n",
    "    While at the time of writing we use the C\\+\\+20 standard both when building\n",
    "    C\\+\\+ and CUDA code, the two may not always use the same standard. So it is\n",
    "    good practice to limit the amount of Athena code that the `nvcc` compiler\n",
    "    would be exposed to.\n",
    "  - The device code is compiled using a \"standalone\" C\\+\\+ function.\n",
    "    ([calibrateElectrons.h](CUDAExamples/src/02_xAODCalib/calibrateElectrons.h),\n",
    "    [calibrateElectrons.cu](CUDAExamples/src/02_xAODCalib/calibrateElectrons.cu))\n",
    "    It is set up to make use of `\"GaudiKernel/StatusCode.h\"`, but it could\n",
    "    communicate errors back to the algorithm in a simpler way as well.\n",
    "  - To represent the data coming from\n",
    "    [xAOD::Electron](https://atlas-sw-doxygen.web.cern.ch/atlas-sw-doxygen/atlas_main--Doxygen/docs/html/d3/da7/classxAOD_1_1Electron__v1.html)\n",
    "    objects, the example makes use of the\n",
    "    [SoA helper code](https://acts-project.github.io/vecmem/namespacevecmem_1_1edm.html)\n",
    "    of [VecMem](https://acts-project.github.io/vecmem/).\n",
    "    [ElectronDeviceContainer.h](CUDAExamples/src/02_xAODCalib/ElectronDeviceContainer.h)\n",
    "    Along with some of the memory management features provided by that library.\n",
    "\n",
    "## Example Job\n",
    "\n",
    "The same as the first exercise, this one also comes with a CA configuration\n",
    "that you can try with:\n",
    "  - On Perlmutter:"
   ]
  },
  {
   "cell_type": "code",
   "execution_count": null,
   "id": "ac3df6ba",
   "metadata": {
    "scrolled": true
   },
   "outputs": [],
   "source": [
    "!./scripts/run_on_perlmutter.sh ./build/CMakeFiles/atlas_build_run.sh athena.py --CA CUDAExamples/02_xAODCalibConfig.py"
   ]
  },
  {
   "cell_type": "markdown",
   "id": "52211d54-493d-4b1d-8aec-160a926d8420",
   "metadata": {},
   "source": [
    "  - On SWAN:"
   ]
  },
  {
   "cell_type": "code",
   "execution_count": null,
   "id": "417cfe8e-4f03-4a8c-a9e1-c2f70e5a6f59",
   "metadata": {
    "scrolled": true
   },
   "outputs": [],
   "source": [
    "!./scripts/run_on_swan.sh ./build/CMakeFiles/atlas_build_run.sh athena.py --CA CUDAExamples/02_xAODCalibConfig.py"
   ]
  },
  {
   "cell_type": "markdown",
   "id": "f0a01371",
   "metadata": {},
   "source": [
    "Much like the first example, this one is broken out of the box as well.\n",
    "\n",
    "## Tasks\n",
    "\n",
    "### 1. Make The Job Work\n",
    "\n",
    "The example job should be stopping a couple of events into execution, with:\n",
    "\n",
    "```text\n",
    "...\n",
    "AthenaEventLoopMgr                                   INFO   ===>>>  done processing event #2201575275, run #431906 5 events processed so far  <<<===\n",
    "AthenaEventLoopMgr                                   INFO   ===>>>  start processing event #2201577975, run #431906 5 events processed so far  <<<===\n",
    "GPUTutorial::ElectronCalibCUDAAlg                   FATAL Standard std::exception is caught in sysExecute\n",
    "GPUTutorial::ElectronCalibCUDAAlg                   ERROR SG::ExcBadAuxVar: Attempt to retrieve nonexistent aux data item `::eta' (212).\n",
    "GPUTutorial::ElectronCalibCUDAAlg                   ERROR Maximum number of errors ( 'ErrorMax':1) reached.\n",
    "AthAlgSeq                                            INFO execute of [GPUTutorial::ElectronCalibCUDAAlg] did NOT succeed\n",
    "AthAlgSeq                                           ERROR Maximum number of errors ( 'ErrorMax':1) reached.\n",
    "...\n",
    "```\n",
    "\n",
    "The reason for this failure is something that is a very typical mistake when\n",
    "writing GPU code. Even if the manifestation of the error is not quite the same\n",
    "as how it would usually show up.\n",
    "\n",
    "Run the job in a debugger to find the reason for the surprising exception.\n",
    "Specifically keep an eye on container sizes event by event to see what's\n",
    "different about the problematic one. As a hint, it's best to first set up\n",
    "a breakpoint on `GPUTutorial::ElectronCalibCUDAAlg::execute`, and when the\n",
    "program first stops, set up a catchpoint on all thrown exceptions. (During the\n",
    "initialization of the job a number of exceptions are thrown. Which are best\n",
    "avoided like this.)\n",
    "\n",
    "### 2. Make The Job Thread Safe\n",
    "\n",
    "Once you worked around the issue causing the previous failure, the code is\n",
    "technically not thread safe. Though it may be hard to test this during the\n",
    "tutorial. Still, try to run with many parallel CPU threads, and see if you can\n",
    "make the code crash. (You may not be able to...)\n",
    "  - On Perlmutter:"
   ]
  },
  {
   "cell_type": "code",
   "execution_count": null,
   "id": "a0c8ddde",
   "metadata": {
    "scrolled": true
   },
   "outputs": [],
   "source": [
    "!./scripts/run_on_perlmutter.sh ./build/CMakeFiles/atlas_build_run.sh athena.py --threads=10 --CA CUDAExamples/02_xAODCalibConfig.py"
   ]
  },
  {
   "cell_type": "markdown",
   "id": "d98536cf-f2ca-4afc-a6fe-dc9b43470343",
   "metadata": {},
   "source": [
    "  - On SWAN:"
   ]
  },
  {
   "cell_type": "code",
   "execution_count": null,
   "id": "ba6b898b-e99a-4093-9b55-6e4c25fc81f7",
   "metadata": {
    "scrolled": true
   },
   "outputs": [],
   "source": [
    "!./scripts/run_on_swan.sh ./build/CMakeFiles/atlas_build_run.sh athena.py --threads=10 --CA CUDAExamples/02_xAODCalibConfig.py"
   ]
  },
  {
   "cell_type": "markdown",
   "id": "72aa9c79",
   "metadata": {},
   "source": [
    "Since this may or may not present itself, check which memory resources get used\n",
    "in the example algorithm. And remove the use of any thread-unsafe objects, if\n",
    "you find any being used.\n",
    "\n",
    "### 3. Make The Job Do Something Useful\n",
    "\n",
    "The meat of the exercise is to try to do something useful inside of\n",
    "`GPUTutorial::Kernels::calibrateElectrons`. Update the code to:\n",
    "  - Send additional electron variables to the GPU beside \"eta\" and \"phi\";\n",
    "  - Have the kernel perform some modification on the electron momentum, using\n",
    "    the properties of the electron. Mimicking a sort of calibration.\n",
    "  - Try to write a helper function that would be used by the kernel for this\n",
    "    \"calibration\". See how you need to define/implement that helper function to\n",
    "    make it usable from both host and device code."
   ]
  }
 ],
 "metadata": {
  "kernelspec": {
   "display_name": "Python 3",
   "language": "python",
   "name": "python3"
  },
  "language_info": {
   "codemirror_mode": {
    "name": "ipython",
    "version": 3
   },
   "file_extension": ".py",
   "mimetype": "text/x-python",
   "name": "python",
   "nbconvert_exporter": "python",
   "pygments_lexer": "ipython3",
   "version": "3.11.9"
  }
 },
 "nbformat": 4,
 "nbformat_minor": 5
}
