{
 "cells": [
  {
   "cell_type": "markdown",
   "id": "7e4183c3",
   "metadata": {},
   "source": [
    "# Linear Transformation on a GPU with SYCL\n",
    "\n",
    "This exercise does not go beyond what was shown in the very first exercise\n",
    "already. It just shows the same kind of setup, with\n",
    "[oneAPI](https://www.intel.com/content/www/us/en/developer/tools/oneapi/overview.html) /\n",
    "[SYCL](https://www.khronos.org/sycl/).\n",
    "\n",
    "Note that at this exercise was only set up for/on SWAN. As I could not find a\n",
    "way to target GPUs on Perlmutter with the oneAPI installations available there.\n",
    "\n",
    "## Build the project\n",
    "\n",
    "The build happens in the same way as in all the previous exercises."
   ]
  },
  {
   "cell_type": "code",
   "execution_count": null,
   "id": "4dc31545",
   "metadata": {
    "scrolled": true
   },
   "outputs": [],
   "source": [
    "!./scripts/run_on_swan_oneapi.sh cmake -S . -B build_sycl\n",
    "!./scripts/run_on_swan_oneapo.sh cmake --build build_sycl"
   ]
  }
 ],
 "metadata": {
  "language_info": {
   "name": "python"
  }
 },
 "nbformat": 4,
 "nbformat_minor": 5
}
