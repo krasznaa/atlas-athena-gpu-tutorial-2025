{
 "cells": [
  {
   "cell_type": "markdown",
   "id": "7e4183c3",
   "metadata": {},
   "source": [
    "# Linear Transformation on a GPU with SYCL\n",
    "\n",
    "This exercise does not go beyond what was shown in the very first exercise\n",
    "already. It just shows the same kind of setup, with\n",
    "[oneAPI](https://www.intel.com/content/www/us/en/developer/tools/oneapi/overview.html) /\n",
    "[SYCL](https://www.khronos.org/sycl/).\n",
    "\n",
    "Note that at this exercise was only set up for/on SWAN. As I could not find a\n",
    "way to target GPUs on Perlmutter with the oneAPI installations available there.\n",
    "\n",
    "## Build the project\n",
    "\n",
    "The build happens in the same way as in all the previous exercises."
   ]
  },
  {
   "cell_type": "code",
   "execution_count": null,
   "id": "4dc31545",
   "metadata": {
    "scrolled": true
   },
   "outputs": [],
   "source": [
    "!./scripts/run_on_swan.sh cmake -DCMAKE_BUILD_TYPE=Debug -S . -B build\n",
    "!./scripts/run_on_swan.sh cmake --build build"
   ]
  },
  {
   "cell_type": "markdown",
   "id": "37741c21",
   "metadata": {},
   "source": [
    "## Code Structure\n",
    "\n",
    "This last example is set up in the same way as the first one.\n",
    "  - [LinearTransformSYCLAlg.h](SYCLExamples/src/04_LinearTransform/LinearTransformSYCLAlg.h):\n",
    "    Simple (reentrant) algorithm header with no members, and an `initialize()`\n",
    "    and `execute(...)` function.\n",
    "  - [LinearTransofmrSYCLAlg.sycl](SYCLExamples/src/04_LinearTransform/LinearTransformSYCLAlg.sycl):\n",
    "    SYCL file holding both all of the C\\+\\+ code of the algorithm, including the\n",
    "    \"in-line\" kernel executed by the algrithm.\n",
    "  - [04_LinearTransformConfig.py](SYCLExamples/python/04_LinearTransformConfig.py):\n",
    "    CA configuration for running the example algorithm in a 2-threaded MT job,\n",
    "    without any input file.\n",
    "\n",
    "## Running The Code\n",
    "\n",
    "Unlike the previous exercises, this one works \"okay\" out of the box. The\n",
    "purpose here is more to show you how SYCL code is structured at its simplest\n",
    "level. Including that it can be used to run parallel code on practically any\n",
    "type of GPU, including NVIDIA ones.\n",
    "\n",
    "To run the job on SWAN, execute the following:"
   ]
  },
  {
   "cell_type": "code",
   "execution_count": null,
   "id": "0a30f8cc",
   "metadata": {
    "scrolled": true
   },
   "outputs": [],
   "source": [
    "!./scripts/run_on_swan.sh ./build/CMakeFiles/atlas_build_run.sh athena.py --threads=2 --CA SYCLExamples/04_LinearTransformConfig.py"
   ]
  },
  {
   "cell_type": "markdown",
   "id": "6665fbec",
   "metadata": {},
   "source": [
    "## Tasks\n",
    "\n",
    "  - To show just the most basic of things, experiment with different ways\n",
    "    in which you could define the kernel function. The example uses a lambda\n",
    "    for the kernel. But basically any type of \"executable\" can be used there.\n",
    "    Including simple standalone functions, functors, etc.\n",
    "  - The example uses the simplest form of executing a parallel-for with SYCL.\n",
    "    But in most cases we rather want to control the execution on a GPU in the\n",
    "    same way that you learned from CUDA. Specifying the size of the thread\n",
    "    groups, and the number of thread groups to start.\n",
    "    * This is achieved by using\n",
    "      [sycl::nd_range](https://github.khronos.org/SYCL_Reference/iface/nd_range.html)\n",
    "      instead of\n",
    "      [sycl::range](https://github.khronos.org/SYCL_Reference/iface/range.html)\n",
    "      that the example uses currently.\n",
    "    * Update the code to:\n",
    "      - Provide an appropriate `sycl::nd_range` object to the `parallel_for`\n",
    "        call;\n",
    "      - Update the kernel lambda to take a\n",
    "        [sycl::nd_item](https://github.khronos.org/SYCL_Reference/iface/nd_item.html)\n",
    "        parameter instead of the current\n",
    "        [sycl::id](https://github.khronos.org/SYCL_Reference/iface/id.html)\n",
    "        object;\n",
    "      - Experiment with the extra information provided by `sycl::nd_item` over\n",
    "        `sycl::id`."
   ]
  }
 ],
 "metadata": {
  "kernelspec": {
   "display_name": "Python 3",
   "language": "python",
   "name": "python3"
  },
  "language_info": {
   "codemirror_mode": {
    "name": "ipython",
    "version": 3
   },
   "file_extension": ".py",
   "mimetype": "text/x-python",
   "name": "python",
   "nbconvert_exporter": "python",
   "pygments_lexer": "ipython3",
   "version": "3.11.9"
  }
 },
 "nbformat": 4,
 "nbformat_minor": 5
}
