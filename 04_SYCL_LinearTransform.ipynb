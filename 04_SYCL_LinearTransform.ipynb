{
 "cells": [
  {
   "cell_type": "markdown",
   "id": "7e4183c3",
   "metadata": {},
   "source": [
    "# Linear Transformation on a GPU with SYCL\n",
    "\n",
    "This exercise does not go beyond what was shown in the very first exercise\n",
    "already. It just shows the same kind of setup, with\n",
    "[oneAPI](https://www.intel.com/content/www/us/en/developer/tools/oneapi/overview.html) /\n",
    "[SYCL](https://www.khronos.org/sycl/).\n",
    "\n",
    "Note that at this exercise was only set up for/on SWAN. As I could not find a\n",
    "way to target GPUs on Perlmutter with the oneAPI installations available there.\n",
    "\n",
    "## Build the project\n",
    "\n",
    "The build happens in the same way as in all the previous exercises."
   ]
  },
  {
   "cell_type": "code",
   "execution_count": null,
   "id": "4dc31545",
   "metadata": {
    "scrolled": true
   },
   "outputs": [],
   "source": [
    "!./scripts/run_on_swan.sh cmake -DCMAKE_BUILD_TYPE=Debug -S . -B build\n",
    "!./scripts/run_on_swan.sh cmake --build build"
   ]
  }
 ],
 "metadata": {
  "kernelspec": {
   "display_name": "Python 3",
   "language": "python",
   "name": "python3"
  },
  "language_info": {
   "codemirror_mode": {
    "name": "ipython",
    "version": 3
   },
   "file_extension": ".py",
   "mimetype": "text/x-python",
   "name": "python",
   "nbconvert_exporter": "python",
   "pygments_lexer": "ipython3",
   "version": "3.11.9"
  }
 },
 "nbformat": 4,
 "nbformat_minor": 5
}
