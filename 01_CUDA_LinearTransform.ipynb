{
 "cells": [
  {
   "cell_type": "markdown",
   "id": "20570884",
   "metadata": {},
   "source": [
    "# Linear Transformation on a GPU with CUDA\n",
    "\n",
    "The first exercise demonstrates the most bare bones setup for a CUDA algorithm\n",
    "in Athena. It will show you how to set up a reentrant algorithm that would\n",
    "run synchronous CUDA commands to perform a trivial operation on a GPU.\n",
    "\n",
    "## Build The Project\n",
    "\n",
    "As the very first step, let's try to build the project.\n",
    "  - On Perlmutter:"
   ]
  },
  {
   "cell_type": "code",
   "execution_count": null,
   "id": "a910b735",
   "metadata": {},
   "outputs": [],
   "source": [
    "!./scripts/run_on_perlmutter.sh cmake -DCMAKE_BUILD_TYPE=Debug -S . -B build\n",
    "!./scripts/run_on_perlmutter.sh cmake --build build"
   ]
  },
  {
   "cell_type": "markdown",
   "id": "c1420ac7-0eb0-42c8-bd8f-b45838d47963",
   "metadata": {},
   "source": [
    "  - On SWAN:"
   ]
  },
  {
   "cell_type": "code",
   "execution_count": null,
   "id": "dabad20e-1fea-4e12-8251-df00603863dd",
   "metadata": {},
   "outputs": [],
   "source": [
    "!./scripts/run_command.sh cmake -DCMAKE_BUILD_TYPE=Debug -S . -B build\n",
    "!./scripts/run_command.sh cmake --build build"
   ]
  },
  {
   "cell_type": "markdown",
   "id": "fcf0ce11",
   "metadata": {},
   "source": [
    "In case you got the following error from the previous command, you have some\n",
    "additional work to do:\n",
    "\n",
    "```text\n",
    "ERROR:\n",
    "ERROR: CUDA not available. Please configure the setup script!\n",
    "ERROR:\n",
    "```\n",
    "\n",
    "If you received this error, please edit the value of `CUDA_DIR` in\n",
    "[scripts/build_env.sh](scripts/build_env.sh). After setting that variable\n",
    "to point to a valid local installation, try to re-run the previous cell.\n",
    "\n",
    "## Code Structure\n",
    "\n",
    "This first example is set up very trivially.\n",
    "  - [LinearTransformCUDAAlg.h](CUDAExamples/src/01_LinearTransform/LinearTransformCUDAAlg.h):\n",
    "    Simple (reentrant) algorithm header with no members, and an `initialize()`\n",
    "    and `execute(...)` function.\n",
    "  - [LinearTransofmrCUDAAlg.cu](CUDAExamples/src/01_LinearTransform/LinearTransformCUDAAlg.cu):\n",
    "    CUDA file holding both all of the C\\+\\+ code of the algorithm, and the\n",
    "    CUDA (kernel) code that would be run by the algorithm.\n",
    "     * See Example 2 for details on why this setup is not a good idea for\n",
    "       production code.\n",
    "  - [01_LinearTransformConfig.py](CUDAExamples/python/01_LinearTransformConfig.py):\n",
    "    CA configuration for running the example algorithm in a 2-threaded MT job,\n",
    "    without any input file.\n",
    "\n",
    "## Running The Code As Is\n",
    "\n",
    "Try to execute the code in its present form!\n",
    "  - On Perlmutter:"
   ]
  },
  {
   "cell_type": "code",
   "execution_count": null,
   "id": "258ff7e7",
   "metadata": {},
   "outputs": [],
   "source": [
    "!./scripts/run_on_perlmutter.sh ./build/CMakeFiles/atlas_build_run.sh athena.py --threads=2 --CA CUDAExamples/01_LinearTransformConfig.py"
   ]
  },
  {
   "cell_type": "markdown",
   "id": "27ff300e-99ee-4253-bbd2-b70dea303cc1",
   "metadata": {},
   "source": [
    "  - On SWAN:"
   ]
  },
  {
   "cell_type": "code",
   "execution_count": null,
   "id": "42349778-e3bf-4165-a262-5715d6e37dc3",
   "metadata": {
    "scrolled": true
   },
   "outputs": [],
   "source": [
    "!./scripts/run_command.sh ./build/CMakeFiles/atlas_build_run.sh athena.py --threads=2 --CA CUDAExamples/01_LinearTransformConfig.py"
   ]
  },
  {
   "cell_type": "markdown",
   "id": "5ce93637",
   "metadata": {},
   "source": [
    "The job should have started successfully, but then stopped in the first event\n",
    "with an error complaining about an illegal memory access.\n",
    "\n",
    "## Debugging The Athena Job\n",
    "\n",
    "If you have a careful look at\n",
    "[LinearTransofmrCUDAAlg.cu](CUDAExamples/src/01_LinearTransform/LinearTransformCUDAAlg.cu),\n",
    "you can probably figure out without additional help as well what the problem\n",
    "may be. But let's rather use\n",
    "[cuda-gdb](https://docs.nvidia.com/cuda/cuda-gdb/index.html) to understand where\n",
    "the error is coming from.\n",
    "\n",
    "Debugging is an interactive task, and based on the following command, you should\n",
    "try to set up an interactive debugging session to inspect the code with. But to\n",
    "make it a little easier to do everything from the notebook directly, the\n",
    "following command will run a batched debug job (with the help of\n",
    "[01_LinearTransformCrashBacktrace.txt](CUDAExamples/debug/01_LinearTransformCrashBacktrace.txt)),\n",
    "printing the relevant output necessary to understand what it going wrong.\n",
    "\n",
    "  - On Perlmutter:"
   ]
  },
  {
   "cell_type": "code",
   "execution_count": null,
   "id": "ee309de2",
   "metadata": {},
   "outputs": [],
   "source": [
    "!./scripts/run_on_perlmutter.sh ./build/CMakeFiles/atlas_build_run.sh ./scripts/cuda-gdb.sh --batch --command=./CUDAExamples/debug/01_LinearTransformCrashBacktrace.txt --args python ./CUDAExamples/python/01_LinearTransformConfig.py"
   ]
  },
  {
   "cell_type": "markdown",
   "id": "b8544587-c105-4a54-9abd-4ae822aa3943",
   "metadata": {},
   "source": [
    "  - On SWAN:"
   ]
  },
  {
   "cell_type": "code",
   "execution_count": null,
   "id": "edb0525f-09b5-4592-b277-55a660a23c19",
   "metadata": {},
   "outputs": [],
   "source": [
    "!./scripts/run_command.sh ./build/CMakeFiles/atlas_build_run.sh cuda-gdb --batch --command=./CUDAExamples/debug/01_LinearTransformCrashBacktrace.txt --args python ./CUDAExamples/python/01_LinearTransformConfig.py"
   ]
  },
  {
   "cell_type": "markdown",
   "id": "c838c201",
   "metadata": {},
   "source": [
    "Beside `cuda-gdb`, another very good tool to use to find problems in CUDA code,\n",
    "is [compute-sanitizer](https://docs.nvidia.com/compute-sanitizer/index.html).\n",
    "Use the following command to inspect the example job.\n",
    "  - On Perlmutter:"
   ]
  },
  {
   "cell_type": "code",
   "execution_count": null,
   "id": "2a5c6169",
   "metadata": {},
   "outputs": [],
   "source": [
    "!./scripts/run_on_perlmutter.sh ./build/CMakeFiles/atlas_build_run.sh compute-sanitizer --leak-check=full athena.py --CA CUDAExamples/01_LinearTransformConfig.py"
   ]
  },
  {
   "cell_type": "markdown",
   "id": "21edbcd4-0b71-40b3-a0a8-be41b6e2b631",
   "metadata": {},
   "source": [
    "  - On SWAN:"
   ]
  },
  {
   "cell_type": "code",
   "execution_count": null,
   "id": "970da1a1-fa52-407c-958e-fd3f385c6f7e",
   "metadata": {},
   "outputs": [],
   "source": [
    "!./scripts/run_command.sh ./build/CMakeFiles/atlas_build_run.sh compute-sanitizer --leak-check=full athena.py --CA CUDAExamples/01_LinearTransformConfig.py"
   ]
  },
  {
   "cell_type": "markdown",
   "id": "fe40b61c",
   "metadata": {},
   "source": [
    "## Tasks\n",
    "\n",
    "  - Update `GPUTutorial::Kernels::linearTransform` to work correctly with\n",
    "    arbitrary grid sizes.\n",
    "  - Fix the memory leak issue(s) in\n",
    "    `GPUTutorial::LinearTransformCUDAAlg::execute`.\n",
    "  - Try to update the code such that memory would be freed even in case of\n",
    "    runtime errors.\n",
    "\n",
    "After you updated the code, run the following cell to re-build it.\n",
    "  - On Perlmutter:"
   ]
  },
  {
   "cell_type": "code",
   "execution_count": null,
   "id": "44c4aa68",
   "metadata": {},
   "outputs": [],
   "source": [
    "!./scripts/run_on_perlmutter.sh cmake --build build"
   ]
  },
  {
   "cell_type": "markdown",
   "id": "92aeb16f-7f00-4e68-aca5-13c40946a131",
   "metadata": {},
   "source": [
    "  - On SWAN:"
   ]
  },
  {
   "cell_type": "code",
   "execution_count": null,
   "id": "765f8ca9-2fa2-4dda-8e0c-a7cd9d54c482",
   "metadata": {},
   "outputs": [],
   "source": [
    "!./scripts/run_command.sh cmake --build build"
   ]
  },
  {
   "cell_type": "markdown",
   "id": "d60c5116",
   "metadata": {},
   "source": [
    "The goal is to have the example job finish successfully, with output like:\n",
    "\n",
    "```text\n",
    "...\n",
    "GPUTutorial::LinearTransformCUDAAlg                   97     1    INFO outputHost[1000]   = 2001\n",
    "GPUTutorial::LinearTransformCUDAAlg                   97     1    INFO outputHost[999999] = 2e+06\n",
    "AthenaHiveEventLoopMgr                                98     0    INFO   ===>>>  done processing event #99, run #1 on slot 0,  98 events processed so far  <<<===\n",
    "AthenaHiveEventLoopMgr                                99     0    INFO   ===>>>  start processing event #100, run #1 on slot 0,  98 events processed so far  <<<===\n",
    "AthenaHiveEventLoopMgr                                97     1    INFO   ===>>>  done processing event #98, run #1 on slot 1,  99 events processed so far  <<<===\n",
    "GPUTutorial::LinearTransformCUDAAlg                   99     0    INFO outputHost[0]      = 1\n",
    "GPUTutorial::LinearTransformCUDAAlg                   99     0    INFO outputHost[1000]   = 2001\n",
    "GPUTutorial::LinearTransformCUDAAlg                   99     0    INFO outputHost[999999] = 2e+06\n",
    "AthenaHiveEventLoopMgr                                99     0    INFO   ===>>>  done processing event #100, run #1 on slot 0,  100 events processed so far  <<<===\n",
    "AthenaHiveEventLoopMgr                                99     0    INFO ---> Loop Finished (seconds): 5.62849\n",
    "ApplicationMgr                                                    INFO Application Manager Stopped successfully\n",
    "SGInputLoader                                                     INFO Finalizing SGInputLoader...\n",
    "AvalancheSchedulerSvc                                             INFO Joining Scheduler thread\n",
    "FPEAuditor                                                        INFO FPE summary for this job\n",
    "FPEAuditor                                                        INFO  FPE OVERFLOWs  : 0\n",
    "FPEAuditor                                                        INFO  FPE INVALIDs   : 0\n",
    "FPEAuditor                                                        INFO  FPE DIVBYZEROs : 0\n",
    "EventDataSvc                                                      INFO Finalizing EventDataSvc\n",
    "ApplicationMgr                                                    INFO Application Manager Finalized successfully\n",
    "ApplicationMgr                                                    INFO Application Manager Terminated successfully\n",
    "```\n",
    "\n",
    "Also check that `compute-sanitizer` would not report any memory leaks!\n",
    "  - On Perlmutter:"
   ]
  },
  {
   "cell_type": "code",
   "execution_count": null,
   "id": "5ce12c18",
   "metadata": {},
   "outputs": [],
   "source": [
    "!./scripts/run_on_perlmutter.sh ./build/CMakeFiles/atlas_build_run.sh athena.py --threads=2 --CA CUDAExamples/01_LinearTransformConfig.py"
   ]
  },
  {
   "cell_type": "markdown",
   "id": "130d8147-d950-45b4-8a57-da3216f9e11b",
   "metadata": {},
   "source": [
    "  - On SWAN:"
   ]
  },
  {
   "cell_type": "code",
   "execution_count": null,
   "id": "affb4d95-d71f-4501-8590-486220bf2d61",
   "metadata": {},
   "outputs": [],
   "source": [
    "!./scripts/run_command.sh ./build/CMakeFiles/atlas_build_run.sh athena.py --threads=2 --CA CUDAExamples/01_LinearTransformConfig.py"
   ]
  }
 ],
 "metadata": {
  "kernelspec": {
   "display_name": "NERSC Python",
   "language": "python",
   "name": "python3"
  },
  "language_info": {
   "codemirror_mode": {
    "name": "ipython",
    "version": 3
   },
   "file_extension": ".py",
   "mimetype": "text/x-python",
   "name": "python",
   "nbconvert_exporter": "python",
   "pygments_lexer": "ipython3",
   "version": "3.11.7"
  }
 },
 "nbformat": 4,
 "nbformat_minor": 5
}
